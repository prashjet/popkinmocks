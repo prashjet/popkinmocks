{
 "cells": [
  {
   "cell_type": "code",
   "execution_count": 1,
   "id": "9a325ca2",
   "metadata": {},
   "outputs": [],
   "source": [
    "import numpy as np\n",
    "import popkinmocks as pkm\n",
    "import matplotlib.pyplot as plt\n",
    "from conftest import my_three_component_cube"
   ]
  },
  {
   "cell_type": "code",
   "execution_count": 2,
   "id": "81ed20f1",
   "metadata": {},
   "outputs": [
    {
     "name": "stdout",
     "output_type": "stream",
     "text": [
      "nv=20, mad=0.0009334891770789722\n",
      "nv=40, mad=0.00020262838466744704\n",
      "nv=80, mad=7.647139645239331e-05\n"
     ]
    },
    {
     "data": {
      "text/plain": [
       "Text(0, 0.5, 'pdf')"
      ]
     },
     "execution_count": 2,
     "metadata": {},
     "output_type": "execute_result"
    },
    {
     "data": {
      "image/png": "[encoded data removed]",
      "text/plain": [
       "<Figure size 432x288 with 1 Axes>"
      ]
     },
     "metadata": {
      "needs_background": "light"
     },
     "output_type": "display_data"
    }
   ],
   "source": [
    "for nv in [20, 40, 80]:\n",
    "    cube = my_three_component_cube(nv)\n",
    "    p_tvxz = cube.get_p('tvxz',\n",
    "                        density=True,\n",
    "                        light_weighted=False,\n",
    "                        collapse_cmps=True)\n",
    "    mix_cmp = pkm.components.Component(cube=cube, p_tvxz=p_tvxz)\n",
    "    mix_cmp.evaluate_ybar()\n",
    "    frac_error = 1. - cube.ybar/mix_cmp.ybar\n",
    "    plt.hist(np.ravel(frac_error), alpha=0.3, label=str(nv), bins=50, density=True)\n",
    "    mad = np.median(np.abs(frac_error))\n",
    "    print(f'{nv=}, {mad=}')\n",
    "plt.gca().legend()\n",
    "plt.gca().set_yscale('log')\n",
    "plt.gca().set_title('Error Distribution vs. # velocity bins')\n",
    "plt.gca().set_xlabel('Fractional error')\n",
    "plt.gca().set_ylabel('pdf')"
   ]
  },
  {
   "cell_type": "markdown",
   "id": "d7224bad",
   "metadata": {},
   "source": [
    "The fractional error between datacube signal calculated in two ways:\n",
    "1. using exact FTs of the normal LOSVDs\n",
    "2. using FFTs of histogrammed LOSVDs with number of velocity bins = 20, 40 or 80\n",
    "\n",
    "The error distrubtuion shrinks with better velocity resolution for the FFTs - good!\n",
    "\n",
    "With `nv=20` the error tails are large - reaching 6%! Although the median absolute error is still <0.1% in this case.\n",
    "\n",
    "For the purpose of fast unit tests, I don't want to increase `nv` above 20. So let's stick with this and use MAD < 0.1% for comparing the two datacubes.\n",
    "\n",
    "We only compare a subset of the datacube - let's check the MAD on this subset, "
   ]
  },
  {
   "cell_type": "code",
   "execution_count": 3,
   "id": "be0554b7",
   "metadata": {},
   "outputs": [
    {
     "data": {
      "text/plain": [
       "0.0014150828567491835"
      ]
     },
     "execution_count": 3,
     "metadata": {},
     "output_type": "execute_result"
    }
   ],
   "source": [
    "nv = 20\n",
    "cube = my_three_component_cube(nv)\n",
    "p_tvxz = cube.get_p('tvxz',\n",
    "                    density=True,\n",
    "                    light_weighted=False,\n",
    "                    collapse_cmps=True)\n",
    "mix_cmp = pkm.components.Component(cube=cube, p_tvxz=p_tvxz)\n",
    "mix_cmp.evaluate_ybar()\n",
    "frac_error = 1. - cube.ybar/mix_cmp.ybar\n",
    "np.median(np.abs(frac_error[::100,::3,::2]))"
   ]
  },
  {
   "cell_type": "markdown",
   "id": "fddcb3d1",
   "metadata": {},
   "source": [
    "So use 0.15% as the criterion"
   ]
  },
  {
   "cell_type": "code",
   "execution_count": null,
   "id": "d177b45e",
   "metadata": {},
   "outputs": [],
   "source": []
  }
 ],
 "metadata": {
  "kernelspec": {
   "display_name": "Python 3 (ipykernel)",
   "language": "python",
   "name": "python3"
  },
  "language_info": {
   "codemirror_mode": {
    "name": "ipython",
    "version": 3
   },
   "file_extension": ".py",
   "mimetype": "text/x-python",
   "name": "python",
   "nbconvert_exporter": "python",
   "pygments_lexer": "ipython3",
   "version": "3.9.6"
  }
 },
 "nbformat": 4,
 "nbformat_minor": 5
}
